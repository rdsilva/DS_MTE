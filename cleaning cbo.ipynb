{
 "cells": [
  {
   "cell_type": "markdown",
   "metadata": {},
   "source": [
    "## Normalizando os dados do CBO\n",
    "\n",
    "\n",
    "Objetivo é filtrar apenas as ocupações reais (sem sinônimos) e adicionar a ocupação \"estudante\""
   ]
  },
  {
   "cell_type": "code",
   "execution_count": 1,
   "metadata": {},
   "outputs": [],
   "source": [
    "cbo <- read.csv2(\"lista cbo 2002.csv\", header=TRUE, sep=\",\")"
   ]
  },
  {
   "cell_type": "code",
   "execution_count": 2,
   "metadata": {},
   "outputs": [
    {
     "name": "stdout",
     "output_type": "stream",
     "text": [
      "'data.frame':\t10345 obs. of  3 variables:\n",
      " $ codigo: Factor w/ 3150 levels \"0101\",\"0101-05\",..: 1801 952 952 1852 3019 3024 2719 2719 1989 2997 ...\n",
      " $ termo : Factor w/ 10342 levels \"Abacaxicultor\",..: 1 2 3 4 5 6 7 8 9 10 ...\n",
      " $ tipo  : Factor w/ 4 levels \"\",\"Família\",\"Ocupação\",..: 4 4 4 4 4 4 4 4 4 3 ...\n"
     ]
    }
   ],
   "source": [
    "str(cbo)"
   ]
  },
  {
   "cell_type": "code",
   "execution_count": 3,
   "metadata": {},
   "outputs": [
    {
     "data": {
      "text/plain": [
       "     codigo                           termo             tipo     \n",
       " 2631-05: 145   Capoteiro                :    2           : 125  \n",
       " 1414-10: 110   Médico anatomopatologista:    2   Família : 539  \n",
       " 6220-20:  62   Tapeceiro de veículos    :    2   Ocupação:2445  \n",
       " 6325-05:  41   Abacaxicultor            :    1   Sinônimo:7236  \n",
       " 1412-05:  36   Abade                    :    1                  \n",
       " 7661-45:  35   Abadessa                 :    1                  \n",
       " (Other):9916   (Other)                  :10336                  "
      ]
     },
     "metadata": {},
     "output_type": "display_data"
    }
   ],
   "source": [
    "summary(cbo)"
   ]
  },
  {
   "cell_type": "code",
   "execution_count": 4,
   "metadata": {},
   "outputs": [
    {
     "data": {
      "text/html": [
       "<table>\n",
       "<thead><tr><th scope=col>codigo</th><th scope=col>termo</th><th scope=col>tipo</th></tr></thead>\n",
       "<tbody>\n",
       "\t<tr><td>6125-10                               </td><td>Abacaxicultor                         </td><td>Sinônimo                              </td></tr>\n",
       "\t<tr><td>2631-05                               </td><td>Abade                                 </td><td>Sinônimo                              </td></tr>\n",
       "\t<tr><td>2631-05                               </td><td>Abadessa                              </td><td>Sinônimo                              </td></tr>\n",
       "\t<tr><td>6220-20                               </td><td>Abanador na agricultura               </td><td>Sinônimo                              </td></tr>\n",
       "\t<tr><td>8621-20                               </td><td>Abastecedor de caldeira               </td><td>Sinônimo                              </td></tr>\n",
       "\t<tr><td>8621-60                               </td><td>Abastecedor de combustível de aeronave</td><td>Sinônimo                              </td></tr>\n",
       "</tbody>\n",
       "</table>\n"
      ],
      "text/latex": [
       "\\begin{tabular}{r|lll}\n",
       " codigo & termo & tipo\\\\\n",
       "\\hline\n",
       "\t 6125-10                                & Abacaxicultor                          & Sinônimo                              \\\\\n",
       "\t 2631-05                                & Abade                                  & Sinônimo                              \\\\\n",
       "\t 2631-05                                & Abadessa                               & Sinônimo                              \\\\\n",
       "\t 6220-20                                & Abanador na agricultura                & Sinônimo                              \\\\\n",
       "\t 8621-20                                & Abastecedor de caldeira                & Sinônimo                              \\\\\n",
       "\t 8621-60                                & Abastecedor de combustível de aeronave & Sinônimo                              \\\\\n",
       "\\end{tabular}\n"
      ],
      "text/markdown": [
       "\n",
       "codigo | termo | tipo | \n",
       "|---|---|---|---|---|---|\n",
       "| 6125-10                                | Abacaxicultor                          | Sinônimo                               | \n",
       "| 2631-05                                | Abade                                  | Sinônimo                               | \n",
       "| 2631-05                                | Abadessa                               | Sinônimo                               | \n",
       "| 6220-20                                | Abanador na agricultura                | Sinônimo                               | \n",
       "| 8621-20                                | Abastecedor de caldeira                | Sinônimo                               | \n",
       "| 8621-60                                | Abastecedor de combustível de aeronave | Sinônimo                               | \n",
       "\n",
       "\n"
      ],
      "text/plain": [
       "  codigo  termo                                  tipo    \n",
       "1 6125-10 Abacaxicultor                          Sinônimo\n",
       "2 2631-05 Abade                                  Sinônimo\n",
       "3 2631-05 Abadessa                               Sinônimo\n",
       "4 6220-20 Abanador na agricultura                Sinônimo\n",
       "5 8621-20 Abastecedor de caldeira                Sinônimo\n",
       "6 8621-60 Abastecedor de combustível de aeronave Sinônimo"
      ]
     },
     "metadata": {},
     "output_type": "display_data"
    }
   ],
   "source": [
    "head(cbo)"
   ]
  },
  {
   "cell_type": "code",
   "execution_count": 5,
   "metadata": {},
   "outputs": [],
   "source": [
    "ocupacao <- subset(cbo, tipo == \"Ocupação\")\n",
    "ocupacao <- droplevels(ocupacao)"
   ]
  },
  {
   "cell_type": "code",
   "execution_count": 6,
   "metadata": {},
   "outputs": [
    {
     "name": "stdout",
     "output_type": "stream",
     "text": [
      "'data.frame':\t2445 obs. of  3 variables:\n",
      " $ codigo: Factor w/ 2445 levels \"0101-05\",\"0101-10\",..: 2348 1990 1642 2349 1098 657 216 1229 665 217 ...\n",
      " $ termo : Factor w/ 2445 levels \"Abatedor\",\"Acabador de embalagens (flexíveis e cartotécnicas)\",..: 1 2 3 4 5 6 7 8 9 10 ...\n",
      " $ tipo  : Factor w/ 1 level \"Ocupação\": 1 1 1 1 1 1 1 1 1 1 ...\n"
     ]
    }
   ],
   "source": [
    "str(ocupacao)"
   ]
  },
  {
   "cell_type": "code",
   "execution_count": 7,
   "metadata": {},
   "outputs": [
    {
     "data": {
      "text/plain": [
       "     codigo                                                    termo     \n",
       " 0101-05:   1   Abatedor                                          :   1  \n",
       " 0101-10:   1   Acabador de embalagens (flexíveis e cartotécnicas):   1  \n",
       " 0101-15:   1   Acabador de superfícies de concreto               :   1  \n",
       " 0102-05:   1   Açougueiro                                        :   1  \n",
       " 0102-10:   1   Acrobata                                          :   1  \n",
       " 0102-15:   1   Administrador                                     :   1  \n",
       " (Other):2439   (Other)                                           :2439  \n",
       "       tipo     \n",
       " Ocupação:2445  \n",
       "                \n",
       "                \n",
       "                \n",
       "                \n",
       "                \n",
       "                "
      ]
     },
     "metadata": {},
     "output_type": "display_data"
    }
   ],
   "source": [
    "summary(ocupacao)"
   ]
  },
  {
   "cell_type": "code",
   "execution_count": 8,
   "metadata": {},
   "outputs": [],
   "source": [
    "codigo <- gsub(\"-\", \"\", ocupacao$codigo)"
   ]
  },
  {
   "cell_type": "code",
   "execution_count": 9,
   "metadata": {},
   "outputs": [
    {
     "name": "stdout",
     "output_type": "stream",
     "text": [
      " chr [1:2445] \"848505\" \"766305\" \"716105\" \"848510\" \"376205\" \"252105\" ...\n"
     ]
    }
   ],
   "source": [
    "str(codigo)"
   ]
  },
  {
   "cell_type": "code",
   "execution_count": 10,
   "metadata": {},
   "outputs": [],
   "source": [
    "ocupacao$codigo <- codigo"
   ]
  },
  {
   "cell_type": "code",
   "execution_count": 11,
   "metadata": {},
   "outputs": [
    {
     "name": "stdout",
     "output_type": "stream",
     "text": [
      "'data.frame':\t2445 obs. of  3 variables:\n",
      " $ codigo: chr  \"848505\" \"766305\" \"716105\" \"848510\" ...\n",
      " $ termo : Factor w/ 2445 levels \"Abatedor\",\"Acabador de embalagens (flexíveis e cartotécnicas)\",..: 1 2 3 4 5 6 7 8 9 10 ...\n",
      " $ tipo  : Factor w/ 1 level \"Ocupação\": 1 1 1 1 1 1 1 1 1 1 ...\n"
     ]
    }
   ],
   "source": [
    "str(ocupacao)"
   ]
  },
  {
   "cell_type": "code",
   "execution_count": 12,
   "metadata": {},
   "outputs": [],
   "source": [
    "# Criando um data frame para estudantes\n",
    "\n",
    "codigo <- c(\"XXXXAA\", \"XXXXBB\",\"XXXXYY\", \"XXXXWW\", \"XXXXZZ\")\n",
    "termo <- c(\"Estudante de Ensino Fundamental\", \n",
    "            \"Estudante de Ensino Médio\", \n",
    "            \"Estudante de Ensino Técnico\", \n",
    "            \"Estudante de Ensino Superior\", \n",
    "            \"Estudante de Pós Graduação\")\n",
    "\n",
    "estudantes <- data.frame(codigo, termo)\n",
    "\n"
   ]
  },
  {
   "cell_type": "code",
   "execution_count": 13,
   "metadata": {},
   "outputs": [
    {
     "name": "stdout",
     "output_type": "stream",
     "text": [
      "'data.frame':\t5 obs. of  2 variables:\n",
      " $ codigo: Factor w/ 5 levels \"XXXXAA\",\"XXXXBB\",..: 1 2 4 3 5\n",
      " $ termo : Factor w/ 5 levels \"Estudante de Ensino Fundamental\",..: 1 2 4 3 5\n"
     ]
    }
   ],
   "source": [
    "str(estudantes)"
   ]
  },
  {
   "cell_type": "code",
   "execution_count": 14,
   "metadata": {},
   "outputs": [],
   "source": [
    "ocupacoes <- subset(ocupacao, select = c(\"codigo\", \"termo\"))"
   ]
  },
  {
   "cell_type": "code",
   "execution_count": 15,
   "metadata": {},
   "outputs": [
    {
     "name": "stdout",
     "output_type": "stream",
     "text": [
      "'data.frame':\t2445 obs. of  2 variables:\n",
      " $ codigo: chr  \"848505\" \"766305\" \"716105\" \"848510\" ...\n",
      " $ termo : Factor w/ 2445 levels \"Abatedor\",\"Acabador de embalagens (flexíveis e cartotécnicas)\",..: 1 2 3 4 5 6 7 8 9 10 ...\n"
     ]
    }
   ],
   "source": [
    "str(ocupacoes)"
   ]
  },
  {
   "cell_type": "code",
   "execution_count": 16,
   "metadata": {},
   "outputs": [],
   "source": [
    "resultado <- rbind(ocupacoes, estudantes)"
   ]
  },
  {
   "cell_type": "code",
   "execution_count": 17,
   "metadata": {},
   "outputs": [],
   "source": [
    "write.csv2(resultado,\"ocupacoes_inovasus.csv\", row.names=FALSE)"
   ]
  },
  {
   "cell_type": "code",
   "execution_count": null,
   "metadata": {},
   "outputs": [],
   "source": []
  }
 ],
 "metadata": {
  "kernelspec": {
   "display_name": "R",
   "language": "R",
   "name": "ir"
  },
  "language_info": {
   "codemirror_mode": "r",
   "file_extension": ".r",
   "mimetype": "text/x-r-source",
   "name": "R",
   "pygments_lexer": "r",
   "version": "3.4.2"
  }
 },
 "nbformat": 4,
 "nbformat_minor": 2
}
